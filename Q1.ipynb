{
 "cells": [
  {
   "cell_type": "code",
   "execution_count": 2,
   "metadata": {},
   "outputs": [],
   "source": [
    "import numpy as np"
   ]
  },
  {
   "cell_type": "code",
   "execution_count": 9,
   "metadata": {},
   "outputs": [
    {
     "name": "stdout",
     "output_type": "stream",
     "text": [
      "cross_entropy\n",
      "Loss: 9.992007221626415e-16\n"
     ]
    }
   ],
   "source": [
    "class Loss:\n",
    "    def __init__(self, loss_type=\"mse\"):\n",
    "        self.loss_type = loss_type\n",
    "        self.loss_function = self._get_loss_function()\n",
    "\n",
    "    def _get_loss_function(self):\n",
    "        if self.loss_type == \"mse\":\n",
    "            return self.mean_squared_error\n",
    "        elif self.loss_type == \"cross_entropy\":\n",
    "            return self.cross_entropy_loss\n",
    "        # Add more loss functions as needed\n",
    "\n",
    "    def mean_squared_error(self, y_true, y_pred):\n",
    "        return np.mean((y_true - y_pred) ** 2)\n",
    "\n",
    "    def cross_entropy_loss(self, y_true, y_pred):\n",
    "        epsilon = 1e-15\n",
    "        y_pred = np.clip(y_pred, epsilon, 1 - epsilon)\n",
    "        return -np.mean(y_true * np.log(y_pred) + (1 - y_true) * np.log(1 - y_pred))\n",
    "\n",
    "    # Add more loss functions as needed\n",
    "\n",
    "    def __call__(self, y_true, y_pred):\n",
    "        return self.loss_function(y_true, y_pred)\n",
    "\n",
    "# # Example usage:\n",
    "loss_instance = Loss(loss_type=\"cross_entropy\")\n",
    "# sample_y_true = np.array([1, 0, 1, 0])\n",
    "# sample_y_pred = np.array([1, 0, 1, 0])\n",
    "\n",
    "# result = loss_instance(sample_y_true, sample_y_pred)\n",
    "# print(loss_instance.loss_type)\n",
    "# print(f\"Loss: {result}\")\n"
   ]
  },
  {
   "cell_type": "code",
   "execution_count": null,
   "metadata": {},
   "outputs": [],
   "source": [
    "\n",
    "class Layer:\n",
    "    def __init__(self, activation_function='linear', num_neurons=1):\n",
    "        self.activation = activation_function\n",
    "        self.activation_function = self._activation_function()\n",
    "        self.N = num_neurons\n",
    "        self.prev_layer = None\n",
    "        self.next_layer = None\n",
    "        self.input_weights = None  # Matrix of size NxK\n",
    "        self.output_weights = None  # Matrix of size WxN\n",
    "    \n",
    "    def _get_loss_function(self):\n",
    "        if self.loss_type == \"linear\":\n",
    "            return self.linear_activation_function\n",
    "        elif self.loss_type == \"sigmoid\":\n",
    "            return self.sigmoid\n",
    "    def linear_activation_function():\n",
    "    def sigmoid():\n",
    "    \n",
    "    def set_previous_layer(self, prev_layer):\n",
    "        self.prev_layer = prev_layer\n",
    "\n",
    "    def set_next_layer(self, next_layer):\n",
    "        self.next_layer = next_layer\n",
    "\n",
    "    def initialize_weights(self, num_neurons_prev):\n",
    "        # Initialize input weights matrix with random values\n",
    "        self.input_weights = np.random.rand(self.N, num_neurons_prev)\n",
    "\n",
    "        # Initialize output weights matrix with random values\n",
    "        if self.next_layer:\n",
    "            self.output_weights = np.random.rand(self.next_layer.N, self.N)\n",
    "\n",
    "    def forward_pass(self, input_data):\n",
    "        # Perform the forward pass through the layer\n",
    "        if self.input_weights is None or (self.next_layer and self.output_weights is None):\n",
    "            raise ValueError(\"Weights not initialized. Call initialize_weights() first.\")\n",
    "\n",
    "        # Calculate the weighted sum of inputs\n",
    "        weighted_sum = np.dot(self.input_weights, input_data)\n",
    "\n",
    "        # Apply activation function\n",
    "        if self.activation_function == 'linear':\n",
    "            output_data = weighted_sum\n",
    "        elif self.activation_function == 'tanh':\n",
    "            output_data = np.tanh(weighted_sum)\n",
    "        # Add more activation functions as needed\n",
    "\n",
    "        return output_data\n",
    "\n",
    "    "
   ]
  },
  {
   "cell_type": "code",
   "execution_count": 5,
   "metadata": {},
   "outputs": [],
   "source": []
  },
  {
   "cell_type": "code",
   "execution_count": null,
   "metadata": {},
   "outputs": [],
   "source": []
  }
 ],
 "metadata": {
  "kernelspec": {
   "display_name": "Python 3",
   "language": "python",
   "name": "python3"
  },
  "language_info": {
   "codemirror_mode": {
    "name": "ipython",
    "version": 3
   },
   "file_extension": ".py",
   "mimetype": "text/x-python",
   "name": "python",
   "nbconvert_exporter": "python",
   "pygments_lexer": "ipython3",
   "version": "3.10.11"
  }
 },
 "nbformat": 4,
 "nbformat_minor": 2
}
