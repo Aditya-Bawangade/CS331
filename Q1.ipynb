{
 "cells": [
  {
   "cell_type": "code",
   "execution_count": 10,
   "metadata": {},
   "outputs": [],
   "source": [
    "import numpy as np"
   ]
  },
  {
   "cell_type": "code",
   "execution_count": 11,
   "metadata": {},
   "outputs": [
    {
     "name": "stdout",
     "output_type": "stream",
     "text": [
      "cross_entropy\n",
      "Loss: 9.992007221626415e-16\n"
     ]
    }
   ],
   "source": [
    "class Loss:\n",
    "    def __init__(self, loss_type=\"mse\"):\n",
    "        self.loss_type = loss_type\n",
    "        self.loss_function = self._get_loss_function()\n",
    "\n",
    "    def _get_loss_function(self):\n",
    "        if self.loss_type == \"mse\":\n",
    "            return self.mean_squared_error\n",
    "        elif self.loss_type == \"cross_entropy\":\n",
    "            return self.cross_entropy_loss\n",
    "        # Add more loss functions as needed\n",
    "\n",
    "    def mean_squared_error(self, y_true, y_pred):\n",
    "        return np.mean((y_true - y_pred) ** 2)\n",
    "\n",
    "    def cross_entropy_loss(self, y_true, y_pred):\n",
    "        epsilon = 1e-15\n",
    "        y_pred = np.clip(y_pred, epsilon, 1 - epsilon)\n",
    "        return -np.mean(y_true * np.log(y_pred) + (1 - y_true) * np.log(1 - y_pred))\n",
    "\n",
    "    # Add more loss functions as needed\n",
    "\n",
    "    def __call__(self, y_true, y_pred):\n",
    "        return self.loss_function(y_true, y_pred)\n",
    "\n",
    "# # Example usage:\n",
    "loss_instance = Loss(loss_type=\"cross_entropy\")\n",
    "sample_y_true = np.array([1, 0, 1, 0])\n",
    "sample_y_pred = np.array([1, 0, 1, 0])\n",
    "\n",
    "result = loss_instance(sample_y_true, sample_y_pred)\n",
    "print(loss_instance.loss_type)\n",
    "print(f\"Loss: {result}\")\n"
   ]
  },
  {
   "cell_type": "code",
   "execution_count": null,
   "metadata": {},
   "outputs": [],
   "source": []
  },
  {
   "cell_type": "code",
   "execution_count": 5,
   "metadata": {},
   "outputs": [],
   "source": []
  },
  {
   "cell_type": "code",
   "execution_count": null,
   "metadata": {},
   "outputs": [],
   "source": []
  }
 ],
 "metadata": {
  "kernelspec": {
   "display_name": "Python 3",
   "language": "python",
   "name": "python3"
  },
  "language_info": {
   "codemirror_mode": {
    "name": "ipython",
    "version": 3
   },
   "file_extension": ".py",
   "mimetype": "text/x-python",
   "name": "python",
   "nbconvert_exporter": "python",
   "pygments_lexer": "ipython3",
   "version": "3.10.11"
  }
 },
 "nbformat": 4,
 "nbformat_minor": 2
}
